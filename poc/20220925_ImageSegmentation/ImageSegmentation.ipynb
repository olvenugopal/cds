{
 "cells": [
  {
   "cell_type": "markdown",
   "metadata": {},
   "source": [
    "# Imports"
   ]
  },
  {
   "cell_type": "code",
   "execution_count": 181,
   "metadata": {},
   "outputs": [],
   "source": [
    "import matplotlib.pyplot as plt\n",
    "from matplotlib.pyplot import imshow\n",
    "import numpy as np\n",
    "from sklearn.cluster import KMeans\n",
    "from PIL import Image\n",
    "from skimage.color import rgb2hsv\n",
    "import os"
   ]
  },
  {
   "cell_type": "markdown",
   "metadata": {},
   "source": [
    "# Constants"
   ]
  },
  {
   "cell_type": "code",
   "execution_count": 182,
   "metadata": {},
   "outputs": [],
   "source": [
    "DIR_INP = './room_scenes/'\n",
    "DIR_OUT = './output/'\n",
    "DIR_TRN = DIR_OUT+'train/'\n",
    "DIR_TST = DIR_OUT+'test/'\n",
    "S_RATIO = 0.8"
   ]
  },
  {
   "cell_type": "markdown",
   "metadata": {},
   "source": [
    "# Functions"
   ]
  },
  {
   "cell_type": "code",
   "execution_count": 196,
   "metadata": {},
   "outputs": [],
   "source": [
    "# Function to delete all files in the output folder\n",
    "from cgi import test\n",
    "\n",
    "\n",
    "def deleteFiles(fpath):\n",
    "    files = os.listdir(fpath)\n",
    "    for f in files:\n",
    "        os.remove(fpath+f)\n",
    "\n",
    "# Function to perform Segmentation on an Image\n",
    "def doSeg4Image(inp):\n",
    "    \"\"\"\n",
    "    Perform Segmentation on an Image Array (256,256,3)\n",
    "    \"\"\"\n",
    "    vec = np.uint8(inp.reshape((-1,3)))\n",
    "    kmn = KMeans(random_state=42, init='random', n_clusters=3)\n",
    "    lb0 = kmn.fit_predict(vec)\n",
    "    cl0 = [255,0,0]\n",
    "    cl1 = [0,255,0]\n",
    "    cl2 = [0,0,255]\n",
    "    cpy = np.zeros((lb0.shape[0],3), dtype=np.uint8)\n",
    "    for i, j in enumerate(lb0):\n",
    "        if j == 0:\n",
    "            cpy[i] = cl0\n",
    "        elif j == 1:\n",
    "            cpy[i] = cl1\n",
    "        else:\n",
    "            cpy[i] = cl2\n",
    "    out = np.reshape(cpy, (256,256,3))\n",
    "    return out\n",
    "\n",
    "#Function to do Segmentation for files in a Folder\n",
    "def doSegmentation(inputFolder, trainPath, testPath):\n",
    "    files = os.listdir(inputFolder)\n",
    "    threshold = round(number=len(files)*S_RATIO)\n",
    "    for idx, fil in enumerate(files):\n",
    "        f = trainPath if idx<=threshold else testPath\n",
    "        im0 = Image.open(fp=inputFolder+fil)\n",
    "        im1 = im0.resize(size=(256,256))\n",
    "        inp = np.array(im1)\n",
    "        out = doSeg4Image(inp)\n",
    "        fin = np.concatenate((inp,out), axis=1)\n",
    "        img = Image.fromarray(fin)\n",
    "        img.save(fp=f+fil)"
   ]
  },
  {
   "cell_type": "markdown",
   "metadata": {},
   "source": [
    "# Core Logic"
   ]
  },
  {
   "cell_type": "code",
   "execution_count": 197,
   "metadata": {},
   "outputs": [],
   "source": [
    "# Delete all the files in the output folders\n",
    "deleteFiles(DIR_TRN)\n",
    "deleteFiles(DIR_TST)\n",
    "doSegmentation(DIR_INP, DIR_TRN, DIR_TST)"
   ]
  }
 ],
 "metadata": {
  "kernelspec": {
   "display_name": "Python 3.8.10 64-bit",
   "language": "python",
   "name": "python3"
  },
  "language_info": {
   "codemirror_mode": {
    "name": "ipython",
    "version": 3
   },
   "file_extension": ".py",
   "mimetype": "text/x-python",
   "name": "python",
   "nbconvert_exporter": "python",
   "pygments_lexer": "ipython3",
   "version": "3.8.10"
  },
  "orig_nbformat": 4,
  "vscode": {
   "interpreter": {
    "hash": "916dbcbb3f70747c44a77c7bcd40155683ae19c65e1c03b4aa3499c5328201f1"
   }
  }
 },
 "nbformat": 4,
 "nbformat_minor": 2
}
